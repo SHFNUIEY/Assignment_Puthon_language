{
 "cells": [
  {
   "cell_type": "markdown",
   "id": "83ae2511-2f59-4185-b7f1-84687acf5297",
   "metadata": {},
   "source": [
    "###Part 2:python strings"
   ]
  },
  {
   "cell_type": "code",
   "execution_count": 3,
   "id": "9f4cd262-2941-4d67-8c1b-cdf603c2c638",
   "metadata": {},
   "outputs": [],
   "source": [
    "### 26. Define what a string is in Python. Give 3 examples.Answer__A string is a sequence of characters enclosed in quotes.\n",
    "\n",
    "\n",
    "name = \"Saniya\"\n",
    "city = 'Hamirpur'\n",
    "text = \"\"\"Python Programming\"\"\""
   ]
  },
  {
   "cell_type": "code",
   "execution_count": 4,
   "id": "42a7da8a-f733-459f-add9-44933baf964c",
   "metadata": {},
   "outputs": [
    {
     "name": "stdout",
     "output_type": "stream",
     "text": [
      "SANIYA CH\n",
      "saniya ch\n",
      "Saniya Ch\n"
     ]
    }
   ],
   "source": [
    "### 27. Program to print your name in uppercase, lowercase, and title case.\n",
    "\n",
    "\n",
    "name = \"saniya ch\"\n",
    "print(name.upper())\n",
    "print(name.lower())\n",
    "print(name.title())\n"
   ]
  },
  {
   "cell_type": "code",
   "execution_count": 50,
   "id": "8ae9eae7-cffd-4c24-be14-90506e779bc0",
   "metadata": {},
   "outputs": [
    {
     "name": "stdout",
     "output_type": "stream",
     "text": [
      "6\n"
     ]
    }
   ],
   "source": [
    "### 28. Find the length of a string.\n",
    "\n",
    "name = \"string\"\n",
    "print(len(name))"
   ]
  },
  {
   "cell_type": "code",
   "execution_count": 51,
   "id": "64b011e6-e03a-4b30-9fd0-f9cafdbdbfaf",
   "metadata": {},
   "outputs": [
    {
     "name": "stdout",
     "output_type": "stream",
     "text": [
      "Hello Saniya\n"
     ]
    }
   ],
   "source": [
    "### 29. Concatenate two strings.\n",
    "\n",
    "a = \"Hello\"\n",
    "b = \"Saniya\"\n",
    "print(a + \" \" + b)"
   ]
  },
  {
   "cell_type": "code",
   "execution_count": 52,
   "id": "fd6e3a99-fb8f-4526-8897-932895fe4302",
   "metadata": {},
   "outputs": [
    {
     "name": "stdout",
     "output_type": "stream",
     "text": [
      "pytho\n"
     ]
    }
   ],
   "source": [
    "### 30. Extract first 5 characters.\n",
    "\n",
    "text = \"python language\"\n",
    "print(text[:5])"
   ]
  },
  {
   "cell_type": "code",
   "execution_count": 54,
   "id": "e5fbb0c0-cf79-487d-9b3e-920f764cffe2",
   "metadata": {},
   "outputs": [
    {
     "name": "stdout",
     "output_type": "stream",
     "text": [
      "ment\n"
     ]
    }
   ],
   "source": [
    "### 31. Extract last 4 characters.\n",
    "\n",
    "text = \"argument\"\n",
    "print(text[-4:])"
   ]
  },
  {
   "cell_type": "code",
   "execution_count": 11,
   "id": "d565756c-0ba0-49a4-834b-a77d933ffa9f",
   "metadata": {},
   "outputs": [
    {
     "name": "stdout",
     "output_type": "stream",
     "text": [
      "nohtyP\n"
     ]
    }
   ],
   "source": [
    "### 32. Reverse a string.\n",
    "\n",
    "s = \"Python\"\n",
    "print(s[::-1])"
   ]
  },
  {
   "cell_type": "code",
   "execution_count": 57,
   "id": "e962ec91-bf5f-43fa-b1e0-b5f66003195e",
   "metadata": {},
   "outputs": [
    {
     "name": "stdout",
     "output_type": "stream",
     "text": [
      "False\n"
     ]
    }
   ],
   "source": [
    "### 33. Check if substring exists.\n",
    "\n",
    "text = \"sub string\"\n",
    "print(\"exists\" in text)\n"
   ]
  },
  {
   "cell_type": "code",
   "execution_count": 59,
   "id": "00d3cd79-58ed-48a2-acd6-2c82ead52c7a",
   "metadata": {},
   "outputs": [
    {
     "name": "stdout",
     "output_type": "stream",
     "text": [
      "I am doing assignment\n"
     ]
    }
   ],
   "source": [
    "### **34. Replace a substring.\n",
    "\n",
    "s = \"I am doing homework\"\n",
    "print(s.replace(\"homework\", \"assignment\"))"
   ]
  },
  {
   "cell_type": "code",
   "execution_count": 14,
   "id": "beee5ae7-89fc-4206-ae88-53043c4d3fb3",
   "metadata": {},
   "outputs": [
    {
     "name": "stdout",
     "output_type": "stream",
     "text": [
      "HelloWorld\n"
     ]
    }
   ],
   "source": [
    "### 35. Remove spaces.\n",
    "\n",
    "\n",
    "s = \"Hello World \"\n",
    "print(s.replace(\" \", \"\"))"
   ]
  },
  {
   "cell_type": "code",
   "execution_count": 15,
   "id": "ae5d90c6-4de9-4c77-b92e-8ec8256dbd6a",
   "metadata": {},
   "outputs": [
    {
     "name": "stdout",
     "output_type": "stream",
     "text": [
      "['apple', 'banana', 'mango']\n"
     ]
    }
   ],
   "source": [
    "### 36. Split string into a list.\n",
    "\n",
    "s = \"apple,banana,mango\"\n",
    "print(s.split(\",\"))"
   ]
  },
  {
   "cell_type": "code",
   "execution_count": 16,
   "id": "ee474da5-7939-49fe-ae5e-5a6a5b271125",
   "metadata": {},
   "outputs": [
    {
     "name": "stdout",
     "output_type": "stream",
     "text": [
      "AI-ML-DL\n"
     ]
    }
   ],
   "source": [
    "### 37. Join list into string.\n",
    "\n",
    "lst = [\"AI\", \"ML\", \"DL\"]\n",
    "print(\"-\".join(lst))"
   ]
  },
  {
   "cell_type": "code",
   "execution_count": 60,
   "id": "cf44bbd9-3c5a-4862-aceb-684116def866",
   "metadata": {},
   "outputs": [
    {
     "name": "stdout",
     "output_type": "stream",
     "text": [
      "2\n"
     ]
    }
   ],
   "source": [
    "### 38. Count vowels in a string.\n",
    "\n",
    "s = \"Data\"\n",
    "count = 0\n",
    "for ch in s:\n",
    "    if ch in \"aeiouAEIOU\":\n",
    "        count += 1\n",
    "print(count)"
   ]
  },
  {
   "cell_type": "code",
   "execution_count": 62,
   "id": "6a28aa50-003d-4ed4-9d2b-35ae6f5bc893",
   "metadata": {},
   "outputs": [
    {
     "name": "stdout",
     "output_type": "stream",
     "text": [
      "True\n"
     ]
    }
   ],
   "source": [
    "### 39. Check if a string is palindrome.\n",
    "\n",
    "s = \"madam\"\n",
    "print(s == s[::-1])"
   ]
  },
  {
   "cell_type": "code",
   "execution_count": 63,
   "id": "2fadd8e8-c1c9-4cb6-83b5-27740e3973a4",
   "metadata": {},
   "outputs": [
    {
     "name": "stdout",
     "output_type": "stream",
     "text": [
      "c\n",
      "h\n",
      "a\n",
      "r\n",
      "a\n",
      "c\n",
      "t\n",
      "e\n",
      "r\n"
     ]
    }
   ],
   "source": [
    "### 40. Print each character on a new line.\n",
    "\n",
    "s = \"character\"\n",
    "for ch in s:\n",
    "    print(ch)"
   ]
  },
  {
   "cell_type": "code",
   "execution_count": 3,
   "id": "648dbe88-6afb-40ff-b985-85df858ab3c3",
   "metadata": {},
   "outputs": [
    {
     "name": "stdout",
     "output_type": "stream",
     "text": [
      "43958888888888888888893\n"
     ]
    }
   ],
   "source": [
    "### 41. Convert string to integer and add.\n",
    "\n",
    "x = \"43958888888888888888888\"\n",
    "y = int(x)  + 5\n",
    "print(y)"
   ]
  },
  {
   "cell_type": "code",
   "execution_count": 65,
   "id": "d22d6145-f182-48ab-994e-aa3b51b81a7b",
   "metadata": {},
   "outputs": [
    {
     "name": "stdout",
     "output_type": "stream",
     "text": [
      "5\n"
     ]
    }
   ],
   "source": [
    "### 42. Find index of character.\n",
    "\n",
    "\n",
    "s = \"Empower\"\n",
    "print(s.index(\"e\"))  # index of first 'e'"
   ]
  },
  {
   "cell_type": "code",
   "execution_count": 25,
   "id": "9b93995d-7c51-4afa-8bfc-86325f178733",
   "metadata": {},
   "outputs": [
    {
     "name": "stdout",
     "output_type": "stream",
     "text": [
      "taSci\n"
     ]
    }
   ],
   "source": [
    "### 43. Use slicing to print characters 2 to 6.\n",
    "\n",
    "s = \"DataScience\"\n",
    "print(s[2:7])"
   ]
  },
  {
   "cell_type": "code",
   "execution_count": 4,
   "id": "a89f4b39-423d-491c-aac0-776638e8d649",
   "metadata": {},
   "outputs": [],
   "source": [
    "### 44. Difference between single, double, triple quotes.\n",
    "\n",
    "a = 'Hello'      # single quotes\n",
    "b = \"Hello\"      # double quotes\n",
    "c = '''Hello \n",
    "World'''         # triple quotes for multi-line strings"
   ]
  },
  {
   "cell_type": "code",
   "execution_count": 26,
   "id": "0b58c309-ef4e-4cf0-b203-461aaad49aae",
   "metadata": {},
   "outputs": [
    {
     "name": "stdout",
     "output_type": "stream",
     "text": [
      "My name is Saniya, I am 20 years old.\n"
     ]
    }
   ],
   "source": [
    "### 45. Format a string using .format().\n",
    "\n",
    "name = \"Saniya\"\n",
    "age = 20\n",
    "print(\"My name is {}, I am {} years old.\".format(name, age))"
   ]
  },
  {
   "cell_type": "code",
   "execution_count": 68,
   "id": "4b9c8478-e601-43e9-b603-5599ce20cd57",
   "metadata": {},
   "outputs": [
    {
     "name": "stdout",
     "output_type": "stream",
     "text": [
      "5\n"
     ]
    }
   ],
   "source": [
    "### 46. Count occurrences of a letter.\n",
    "\n",
    "s = \"saniya is learning python right now\"\n",
    "print(s.count(\"n\"))"
   ]
  },
  {
   "cell_type": "code",
   "execution_count": 29,
   "id": "60f7842d-af3b-4b35-a719-4710656e0d3f",
   "metadata": {},
   "outputs": [
    {
     "name": "stdout",
     "output_type": "stream",
     "text": [
      "True\n",
      "True\n"
     ]
    }
   ],
   "source": [
    "### 47. Check if string starts with \"Uni\" and ends with \"wer\".\n",
    "\n",
    "s = \"Unisole Empower\"\n",
    "print(s.startswith(\"Uni\"))\n",
    "print(s.endswith(\"wer\"))"
   ]
  },
  {
   "cell_type": "code",
   "execution_count": 31,
   "id": "6139195c-7bd9-407e-86f4-edb8ac3091e1",
   "metadata": {},
   "outputs": [],
   "source": [
    "### 48. Explain string immutability.Answer__Strings cannot be changed after creation.\n",
    "\n",
    "s = \"Hello\"\n",
    "# s[0] = \"h\"   Error\n",
    "s = \"h\" + s[1:]  #  new string created"
   ]
  },
  {
   "cell_type": "code",
   "execution_count": 7,
   "id": "6f3791f1-fcf0-4c9e-bd3f-75ac2965da41",
   "metadata": {},
   "outputs": [
    {
     "name": "stdout",
     "output_type": "stream",
     "text": [
      "helloworld\n"
     ]
    }
   ],
   "source": [
    "### 49. Remove digits from a string.\n",
    "\n",
    "\n",
    "s = \"hello342world987\"\n",
    "result = ''.join([ch for ch in s if not ch.isdigit()])\n",
    "print(result)"
   ]
  },
  {
   "cell_type": "code",
   "execution_count": 9,
   "id": "8381158a-6043-4537-a620-74cd3e0c89d1",
   "metadata": {},
   "outputs": [
    {
     "name": "stdout",
     "output_type": "stream",
     "text": [
      "True\n"
     ]
    }
   ],
   "source": [
    "### 50. Check if a string contains only alphabets.\n",
    "\n",
    "s = \"Python\"\n",
    "print(s.isalpha())"
   ]
  },
  {
   "cell_type": "code",
   "execution_count": 34,
   "id": "b9247938-13d3-4d48-be0c-639788a4c6f4",
   "metadata": {},
   "outputs": [
    {
     "name": "stdout",
     "output_type": "stream",
     "text": [
      "True\n"
     ]
    }
   ],
   "source": [
    "### 51. Check if a string contains only digits.\n",
    "\n",
    "s = \"12345\"\n",
    "print(s.isdigit())"
   ]
  },
  {
   "cell_type": "code",
   "execution_count": 13,
   "id": "b1043719-43a9-4be1-9138-d005275434ad",
   "metadata": {},
   "outputs": [
    {
     "name": "stdout",
     "output_type": "stream",
     "text": [
      "Hello\n",
      "Welcome to Python class.\n",
      "first class\n",
      "1 hour class\n"
     ]
    }
   ],
   "source": [
    "### 52. Create and print a multiline string.\n",
    "\n",
    "msg = \"\"\"Hello\n",
    "Welcome to Python class.\n",
    "first class\n",
    "1 hour class\"\"\"\n",
    "print(msg)\n"
   ]
  },
  {
   "cell_type": "code",
   "execution_count": 36,
   "id": "766f3b27-b485-40de-a75d-59f7790da3d6",
   "metadata": {},
   "outputs": [
    {
     "name": "stdin",
     "output_type": "stream",
     "text": [
      "Enter a string:  hello world\n"
     ]
    },
    {
     "name": "stdout",
     "output_type": "stream",
     "text": [
      "dlrow olleh\n"
     ]
    }
   ],
   "source": [
    "### 53. Take user input and print reverse.\n",
    "\n",
    "s = input(\"Enter a string: \")\n",
    "print(s[::-1])"
   ]
  },
  {
   "cell_type": "code",
   "execution_count": 37,
   "id": "476f658e-1ce2-41b1-9711-c50a122e4d0b",
   "metadata": {},
   "outputs": [
    {
     "name": "stdout",
     "output_type": "stream",
     "text": [
      "C:\\newfolder\\test\n"
     ]
    }
   ],
   "source": [
    "### 54. Explain raw strings.Answer__Raw strings ignore escape characters like `\\n`.\n",
    "\n",
    "\n",
    "path = r\"C:\\newfolder\\test\"\n",
    "print(path)\n"
   ]
  },
  {
   "cell_type": "code",
   "execution_count": 14,
   "id": "ea2221ab-5e8e-4f53-8751-62270e45cef3",
   "metadata": {},
   "outputs": [
    {
     "name": "stdout",
     "output_type": "stream",
     "text": [
      "New\n",
      "To Class\n",
      "Python Programming\n"
     ]
    }
   ],
   "source": [
    "### 55. Capitalize the first letter of each word.\n",
    "\n",
    "s = \"Python programming\"\n",
    "t = \"\"\"new\n",
    "to class\"\"\"\n",
    "print(t.title())\n",
    "print(s.title())"
   ]
  },
  {
   "cell_type": "code",
   "execution_count": 17,
   "id": "e1d7d50b-4de0-47a4-a176-9875620b3c3c",
   "metadata": {},
   "outputs": [
    {
     "name": "stdout",
     "output_type": "stream",
     "text": [
      "True\n"
     ]
    }
   ],
   "source": [
    "### 56. Check if string is a valid email address.\n",
    "\n",
    "email = \"saniya@gmail.com\"\n",
    "print(\"@\" in email and \".com\" in email)\n"
   ]
  },
  {
   "cell_type": "code",
   "execution_count": 41,
   "id": "8c2f2cee-6011-4c1f-b9aa-8d008c291d22",
   "metadata": {},
   "outputs": [
    {
     "name": "stdout",
     "output_type": "stream",
     "text": [
      "https\n"
     ]
    }
   ],
   "source": [
    "### 57. Extract protocol from a URL.\n",
    "\n",
    "url = \"https://example.com\"\n",
    "protocol = url.split(\":\")[0]\n",
    "print(protocol)"
   ]
  },
  {
   "cell_type": "code",
   "execution_count": 19,
   "id": "9ef87cd5-a82f-4ee2-9440-a2417711c2a3",
   "metadata": {},
   "outputs": [
    {
     "name": "stdout",
     "output_type": "stream",
     "text": [
      "{'h': 1, 'e': 1, 'l': 3, 'o': 2, ' ': 1, 'w': 1, 'r': 1, 'd': 1}\n"
     ]
    }
   ],
   "source": [
    "### 58. Find frequency of each character.\n",
    "\n",
    "p = \"hello world\"\n",
    "freq = {}\n",
    "for ch in p:\n",
    "    freq[ch] = freq.get(ch, 0) + 1\n",
    "print(freq)"
   ]
  },
  {
   "cell_type": "code",
   "execution_count": 43,
   "id": "add4824f-9fd5-455d-b945-7e27666adf40",
   "metadata": {},
   "outputs": [
    {
     "name": "stdout",
     "output_type": "stream",
     "text": [
      "True\n"
     ]
    }
   ],
   "source": [
    "### 59. Check if strings are anagrams.\n",
    "\n",
    "a = \"listen\"\n",
    "b = \"silent\"\n",
    "print(sorted(a) == sorted(b))"
   ]
  },
  {
   "cell_type": "code",
   "execution_count": 44,
   "id": "fbc61bf6-ff04-47c1-8388-7cfe758a66b5",
   "metadata": {},
   "outputs": [
    {
     "name": "stdout",
     "output_type": "stream",
     "text": [
      "cde\n"
     ]
    }
   ],
   "source": [
    "### 60. Encode a string using Caesar Cipher.\n",
    "\n",
    "text = \"abc\"\n",
    "shift = 2\n",
    "encoded = \"\"\n",
    "for ch in text:\n",
    "    encoded += chr(((ord(ch) - 97 + shift) % 26) + 97)\n",
    "print(encoded)"
   ]
  },
  {
   "cell_type": "code",
   "execution_count": 46,
   "id": "f72c1815-4888-4dc4-991a-7dd958b0ab75",
   "metadata": {},
   "outputs": [
    {
     "name": "stdout",
     "output_type": "stream",
     "text": [
      "{'test', 'python', 'this', 'is', 'a'}\n"
     ]
    }
   ],
   "source": [
    "### 62. Find all unique words.\n",
    "\n",
    "s = \"this is a test this is python\"\n",
    "words = s.split()\n",
    "print(set(words))"
   ]
  },
  {
   "cell_type": "code",
   "execution_count": 47,
   "id": "8794e353-6206-4df4-8abb-aeedb0b46797",
   "metadata": {},
   "outputs": [
    {
     "name": "stdout",
     "output_type": "stream",
     "text": [
      "I love programming\n"
     ]
    }
   ],
   "source": [
    "### 63. Remove the nᵗʰ word from a string.\n",
    "\n",
    "s = \"I love Python programming\"\n",
    "n = 2\n",
    "words = s.split()\n",
    "words.pop(n)\n",
    "print(' '.join(words))"
   ]
  },
  {
   "cell_type": "code",
   "execution_count": 24,
   "id": "890116cb-c2ab-4043-801d-54dc64b05723",
   "metadata": {},
   "outputs": [
    {
     "name": "stdout",
     "output_type": "stream",
     "text": [
      "I love programming Python\n"
     ]
    }
   ],
   "source": [
    "### 64. Insert a word at the nᵗʰ position.\n",
    "\n",
    "p = \"I love programming\"\n",
    "n = 3\n",
    "word = \"Python\"\n",
    "words = p.split()\n",
    "words.insert(n, word)\n",
    "print(' '.join(words))"
   ]
  },
  {
   "cell_type": "code",
   "execution_count": null,
   "id": "b295d28f-9265-4945-b17e-a3f0b206e75c",
   "metadata": {},
   "outputs": [],
   "source": []
  }
 ],
 "metadata": {
  "kernelspec": {
   "display_name": "Python [conda env:base] *",
   "language": "python",
   "name": "conda-base-py"
  },
  "language_info": {
   "codemirror_mode": {
    "name": "ipython",
    "version": 3
   },
   "file_extension": ".py",
   "mimetype": "text/x-python",
   "name": "python",
   "nbconvert_exporter": "python",
   "pygments_lexer": "ipython3",
   "version": "3.13.5"
  }
 },
 "nbformat": 4,
 "nbformat_minor": 5
}
