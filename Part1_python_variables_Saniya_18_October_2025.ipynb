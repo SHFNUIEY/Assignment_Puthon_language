{
 "cells": [
  {
   "cell_type": "markdown",
   "id": "d0c2b97e-183f-499f-8f31-e7cadd3a1c66",
   "metadata": {},
   "source": [
    "##Part 1:python variables"
   ]
  },
  {
   "cell_type": "code",
   "execution_count": null,
   "id": "81941e9e-20ad-4a77-82f8-21178931f7b8",
   "metadata": {},
   "outputs": [],
   "source": [
    "###1. Define what a variable is in Python. Give an example.Answer___A variable is a name that stores a value in memory.\n",
    "Example:\n",
    "x = 10"
   ]
  },
  {
   "cell_type": "code",
   "execution_count": 1,
   "id": "dd1ca8c8-960c-4001-af5a-c49db16c6b9d",
   "metadata": {},
   "outputs": [
    {
     "name": "stdout",
     "output_type": "stream",
     "text": [
      "<class 'int'>\n",
      "<class 'float'>\n",
      "<class 'str'>\n"
     ]
    }
   ],
   "source": [
    "###2. Create 3 variables `x`, `y`, and `z` with integer, float, and string values. Print their types.\n",
    "\n",
    "x = 5\n",
    "y = 3.14\n",
    "z = \"Hello\"\n",
    "print(type(x))\n",
    "print(type(y))\n",
    "print(type(z))"
   ]
  },
  {
   "cell_type": "code",
   "execution_count": 2,
   "id": "457a01e7-ac91-46e3-ac67-e08260f15122",
   "metadata": {},
   "outputs": [
    {
     "name": "stdout",
     "output_type": "stream",
     "text": [
      "20 10\n"
     ]
    }
   ],
   "source": [
    "###3. Swap the values of two variables without using a third variable.\n",
    "\n",
    "a = 10\n",
    "b = 20\n",
    "a, b = b, a\n",
    "print(a, b)"
   ]
  },
  {
   "cell_type": "code",
   "execution_count": 3,
   "id": "372badbc-6831-4bf3-9208-efab1eca847a",
   "metadata": {},
   "outputs": [
    {
     "name": "stdout",
     "output_type": "stream",
     "text": [
      "100 100 100\n"
     ]
    }
   ],
   "source": [
    "### 4. Assign a single value to multiple variables in one line.\n",
    "\n",
    "x = y = z = 100\n",
    "print(x, y, z)"
   ]
  },
  {
   "cell_type": "code",
   "execution_count": 5,
   "id": "f8b42b4a-cb41-49ce-99ab-fbf7363ea5c7",
   "metadata": {},
   "outputs": [
    {
     "name": "stdout",
     "output_type": "stream",
     "text": [
      "10 20 30\n"
     ]
    }
   ],
   "source": [
    "### 5. Assign multiple values to multiple variables in one line.\n",
    "\n",
    "a, b, c = 10, 20, 30\n",
    "print(a, b, c)"
   ]
  },
  {
   "cell_type": "code",
   "execution_count": 11,
   "id": "dd421f70-dcdb-456f-adde-3fe8709eed4b",
   "metadata": {},
   "outputs": [
    {
     "name": "stdout",
     "output_type": "stream",
     "text": [
      "True\n"
     ]
    }
   ],
   "source": [
    "### 6. Explain the difference between `=` and `==` with examples.\n",
    "\n",
    "x = 5   # assignment\n",
    "print(x == 5)  # comparison → True"
   ]
  },
  {
   "cell_type": "code",
   "execution_count": 12,
   "id": "676c094c-f2ba-4cee-a0ef-92580bd2a464",
   "metadata": {},
   "outputs": [
    {
     "name": "stdout",
     "output_type": "stream",
     "text": [
      "Area of Rectangle: 50\n"
     ]
    }
   ],
   "source": [
    "### 7. Program to calculate the area of a rectangle.\n",
    "\n",
    "length = 10\n",
    "breadth = 5\n",
    "area = length * breadth\n",
    "print(\"Area of Rectangle:\", area)\n"
   ]
  },
  {
   "cell_type": "code",
   "execution_count": 13,
   "id": "a2bbeaaf-9af1-45fc-8476-79bb3da6da1b",
   "metadata": {},
   "outputs": [
    {
     "name": "stdout",
     "output_type": "stream",
     "text": [
      "Average: 20.0\n"
     ]
    }
   ],
   "source": [
    "### 8. Compute the average of three numbers stored in variables.\n",
    "\n",
    "a, b, c = 10, 20, 30\n",
    "average = (a + b + c) / 3\n",
    "print(\"Average:\", average)"
   ]
  },
  {
   "cell_type": "code",
   "execution_count": 14,
   "id": "005ce3ea-05c0-48ec-99da-30da6c159cef",
   "metadata": {},
   "outputs": [
    {
     "name": "stdout",
     "output_type": "stream",
     "text": [
      "13\n",
      "7\n",
      "30\n",
      "3.3333333333333335\n",
      "1\n",
      "3\n"
     ]
    }
   ],
   "source": [
    "### 9. Perform arithmetic operations.\n",
    "\n",
    "a = 10\n",
    "b = 3\n",
    "print(a + b)\n",
    "print(a - b)\n",
    "print(a * b)\n",
    "print(a / b)\n",
    "print(a % b)\n",
    "print(a // b)"
   ]
  },
  {
   "cell_type": "code",
   "execution_count": 36,
   "id": "df0d1ed5-cd40-4092-84db-38f74d27059a",
   "metadata": {},
   "outputs": [],
   "source": [
    "### 10. What are constants? Explain with example.Answer___Constants are variables whose values do not change during execution.\n",
    "\n",
    "PI = 3.14159"
   ]
  },
  {
   "cell_type": "code",
   "execution_count": 20,
   "id": "58d3ce71-cba5-4352-96d9-c9f907747d88",
   "metadata": {},
   "outputs": [],
   "source": [
    "### 11. Variable naming rules in Python.\n",
    "\n",
    "## Correct way\n",
    "\n",
    "name = \"John\"\n",
    "_age = 25\n",
    "myVar1 = 10\n",
    "\n",
    "## Incorrect way\n",
    "\n",
    "1name = \"John\"  # cannot start with number\n",
    "my-var = 5      # cannot use special characters like "
   ]
  },
  {
   "cell_type": "code",
   "execution_count": 35,
   "id": "f642ba8c-8876-4211-be34-9f1cea3981ca",
   "metadata": {},
   "outputs": [
    {
     "name": "stdout",
     "output_type": "stream",
     "text": [
      "5\n",
      "10\n"
     ]
    }
   ],
   "source": [
    "### 12. Difference between local and global variables. Answer__Local Variable: Declared inside a function and can be accessed only within that function.__Global Variable: Declared outside all functions and can be accessed throughout the program.\n",
    "\n",
    "x = 10  # global variable\n",
    "def func():\n",
    "    y = 5  # local variable\n",
    "    print(y)\n",
    "    print(x)\n",
    "func()"
   ]
  },
  {
   "cell_type": "code",
   "execution_count": 34,
   "id": "e76806b1-4a19-489e-8ab0-8c73975fd196",
   "metadata": {},
   "outputs": [
    {
     "name": "stdout",
     "output_type": "stream",
     "text": [
      "<class 'int'>\n",
      "<class 'str'>\n"
     ]
    }
   ],
   "source": [
    "### 13. Example of dynamic typing.\n",
    "\n",
    "x = 10\n",
    "print(type(x))\n",
    "x = \"Python\"\n",
    "print(type(x))"
   ]
  },
  {
   "cell_type": "code",
   "execution_count": 21,
   "id": "2de4576d-01da-4500-95b9-6f6229b69a04",
   "metadata": {},
   "outputs": [
    {
     "name": "stdout",
     "output_type": "stream",
     "text": [
      "10.0\n",
      "25\n"
     ]
    }
   ],
   "source": [
    "### 14. Type casting examples.\n",
    "\n",
    "a = 10\n",
    "b = float(a)\n",
    "print(b)\n",
    "\n",
    "s = \"25\"\n",
    "num = int(s)\n",
    "print(num)"
   ]
  },
  {
   "cell_type": "code",
   "execution_count": 22,
   "id": "9082abd4-1d46-413c-a2a2-c4664127de6b",
   "metadata": {},
   "outputs": [
    {
     "name": "stdout",
     "output_type": "stream",
     "text": [
      "Simple Interest: 100.0\n"
     ]
    }
   ],
   "source": [
    "### 15. Program to calculate Simple Interest.\n",
    "\n",
    "p = 1000\n",
    "r = 5\n",
    "t = 2\n",
    "si = (p * r * t) / 100\n",
    "print(\"Simple Interest:\", si)"
   ]
  },
  {
   "cell_type": "code",
   "execution_count": 33,
   "id": "be2e70d6-c0b9-490c-9993-c3939842398a",
   "metadata": {},
   "outputs": [
    {
     "name": "stdout",
     "output_type": "stream",
     "text": [
      "My name is Saniya, I am 20 years old, and I study BCA.\n"
     ]
    }
   ],
   "source": [
    "### 16. Print name, age, and course using formatted string.\n",
    "\n",
    "\n",
    "name = \"Saniya\"\n",
    "age = 20\n",
    "course = \"BCA\"\n",
    "print(f\"My name is {name}, I am {age} years old, and I study {course}.\")\n"
   ]
  },
  {
   "cell_type": "code",
   "execution_count": 25,
   "id": "2beed6db-ae38-4f72-903c-b5456e61a367",
   "metadata": {},
   "outputs": [
    {
     "name": "stdout",
     "output_type": "stream",
     "text": [
      "10 5\n"
     ]
    }
   ],
   "source": [
    "### 17. Swap two numbers using a temporary variable.\n",
    "\n",
    "a = 5\n",
    "b = 10\n",
    "temp = a\n",
    "a = b\n",
    "b = temp\n",
    "print(a, b)"
   ]
  },
  {
   "cell_type": "code",
   "execution_count": 31,
   "id": "bdc6b4b6-172a-4c72-86b3-1b39c592440c",
   "metadata": {},
   "outputs": [
    {
     "name": "stdout",
     "output_type": "stream",
     "text": [
      "Temperature in Fahrenheit: 98.6\n"
     ]
    }
   ],
   "source": [
    "### 19. Convert temperature from Celsius to Fahrenheit.\n",
    "\n",
    "c = 37\n",
    "f = (c * 9/5) + 32\n",
    "print(\"Temperature in Fahrenheit:\", f)\n"
   ]
  },
  {
   "cell_type": "code",
   "execution_count": null,
   "id": "0abdde65-5101-4c16-865a-27c22e9a2483",
   "metadata": {},
   "outputs": [],
   "source": [
    "### 20. Calculate area and circumference of a circle.\n",
    "\n",
    "radius = 7\n",
    "area = 3.14 * radius * radius\n",
    "circumference = 2 * 3.14 * radius\n",
    "print(\"Area:\", area)\n",
    "print(\"Circumference:\", circumference)"
   ]
  },
  {
   "cell_type": "code",
   "execution_count": 30,
   "id": "79f469f3-220d-4533-9f77-1003122a2ae8",
   "metadata": {},
   "outputs": [
    {
     "name": "stdout",
     "output_type": "stream",
     "text": [
      "Saniya is 20 years old.\n"
     ]
    }
   ],
   "source": [
    "### 21. Concatenate integer and string using type conversion.\n",
    "\n",
    "name = \"Saniya\"\n",
    "age = 20\n",
    "print(name + \" is \" + str(age) + \" years old.\")"
   ]
  },
  {
   "cell_type": "code",
   "execution_count": null,
   "id": "bca2e6a2-0265-4232-b4d9-bdd2e9490853",
   "metadata": {},
   "outputs": [],
   "source": [
    "### 22. What happens if you use an undefined variable?\n",
    "\n",
    "You get a `NameError`.\n",
    "\n",
    "print(x)  # Error: x is not defined"
   ]
  },
  {
   "cell_type": "code",
   "execution_count": null,
   "id": "5d4a09ee-594f-4277-8b30-37d49e86b93f",
   "metadata": {},
   "outputs": [],
   "source": [
    "### 23. Program to calculate perimeter of a triangle.\n",
    "\n",
    "\n",
    "a, b, c = 3, 4, 5\n",
    "perimeter = a + b + c\n",
    "print(\"Perimeter of triangle:\", perimeter)\n"
   ]
  },
  {
   "cell_type": "code",
   "execution_count": 29,
   "id": "9ecc83f8-5535-481f-a75b-886ec27afb60",
   "metadata": {},
   "outputs": [
    {
     "name": "stdout",
     "output_type": "stream",
     "text": [
      "Total: 400\n",
      "Percentage: 80.0\n"
     ]
    }
   ],
   "source": [
    "### 24. Calculate total and percentage of 5 subjects.\n",
    "\n",
    "\n",
    "s1, s2, s3, s4, s5 = 80, 70, 90, 85, 75\n",
    "total = s1 + s2 + s3 + s4 + s5\n",
    "percentage = (total / 500) * 100\n",
    "print(\"Total:\", total)\n",
    "print(\"Percentage:\", percentage)"
   ]
  },
  {
   "cell_type": "code",
   "execution_count": 28,
   "id": "c6815524-ea5b-4fa8-a17a-74d49f938fd3",
   "metadata": {},
   "outputs": [
    {
     "name": "stdout",
     "output_type": "stream",
     "text": [
      "True\n",
      "False\n"
     ]
    }
   ],
   "source": [
    "### 25. Difference between `is` and `==` with examples. Answer__'==' → compares values.'is' → compares memory location (identity).\n",
    "\n",
    "x = [1, 2, 3]\n",
    "y = [1, 2, 3]\n",
    "print(x == y)  # True (same value)\n",
    "print(x is y)  # False (different memory)"
   ]
  },
  {
   "cell_type": "code",
   "execution_count": null,
   "id": "c5885ed8-db33-45d8-9a61-01f33abc799a",
   "metadata": {},
   "outputs": [],
   "source": [
    "### 18. Explain mutable vs immutable objects.\n",
    "\n",
    "* **Mutable:** can be changed (e.g., list, dict, set).\n",
    "* **Immutable:** cannot be changed (e.g., int, float, string, tuple).\n",
    "\n",
    "x = [1, 2, 3]  # mutable\n",
    "y = \"hello\"    # immutable\n",
    "\n",
    "Strings are immutable."
   ]
  }
 ],
 "metadata": {
  "kernelspec": {
   "display_name": "Python [conda env:base] *",
   "language": "python",
   "name": "conda-base-py"
  },
  "language_info": {
   "codemirror_mode": {
    "name": "ipython",
    "version": 3
   },
   "file_extension": ".py",
   "mimetype": "text/x-python",
   "name": "python",
   "nbconvert_exporter": "python",
   "pygments_lexer": "ipython3",
   "version": "3.13.5"
  }
 },
 "nbformat": 4,
 "nbformat_minor": 5
}
